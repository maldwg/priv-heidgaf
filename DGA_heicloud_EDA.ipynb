{
 "cells": [
  {
   "attachments": {},
   "cell_type": "markdown",
   "metadata": {},
   "source": [
    "# DGA Detection - Data Processing"
   ]
  },
  {
   "cell_type": "code",
   "execution_count": 1,
   "metadata": {},
   "outputs": [
    {
     "name": "stdout",
     "output_type": "stream",
     "text": [
      "Requirement already satisfied: pip in ./.venv/lib/python3.10/site-packages (23.1.2)\n",
      "Collecting pip\n",
      "  Downloading pip-23.3.1-py3-none-any.whl (2.1 MB)\n",
      "\u001b[2K     \u001b[90m━━━━━━━━━━━━━━━━━━━━━━━━━━━━━━━━━━━━━━━━\u001b[0m \u001b[32m2.1/2.1 MB\u001b[0m \u001b[31m12.6 MB/s\u001b[0m eta \u001b[36m0:00:00\u001b[0ma \u001b[36m0:00:01\u001b[0m\n",
      "\u001b[?25hInstalling collected packages: pip\n",
      "  Attempting uninstall: pip\n",
      "    Found existing installation: pip 23.1.2\n",
      "    Uninstalling pip-23.1.2:\n",
      "      Successfully uninstalled pip-23.1.2\n",
      "Successfully installed pip-23.3.1\n",
      "Note: you may need to restart the kernel to use updated packages.\n",
      "Requirement already satisfied: pandas in ./.venv/lib/python3.10/site-packages (1.5.3)\n",
      "Requirement already satisfied: scikit-learn in ./.venv/lib/python3.10/site-packages (1.3.0)\n",
      "Requirement already satisfied: scipy in ./.venv/lib/python3.10/site-packages (1.10.1)\n",
      "Requirement already satisfied: numpy in ./.venv/lib/python3.10/site-packages (1.23.5)\n",
      "Requirement already satisfied: alibi in ./.venv/lib/python3.10/site-packages (0.9.3)\n",
      "Requirement already satisfied: tldextract in ./.venv/lib/python3.10/site-packages (3.4.4)\n",
      "Requirement already satisfied: pyarrow in ./.venv/lib/python3.10/site-packages (12.0.1)\n",
      "Requirement already satisfied: python-dateutil>=2.8.1 in ./.venv/lib/python3.10/site-packages (from pandas) (2.8.2)\n",
      "Requirement already satisfied: pytz>=2020.1 in ./.venv/lib/python3.10/site-packages (from pandas) (2023.3)\n",
      "Requirement already satisfied: joblib>=1.1.1 in ./.venv/lib/python3.10/site-packages (from scikit-learn) (1.3.1)\n",
      "Requirement already satisfied: threadpoolctl>=2.0.0 in ./.venv/lib/python3.10/site-packages (from scikit-learn) (3.1.0)\n",
      "Requirement already satisfied: spacy<4.0.0,>=2.0.0 in ./.venv/lib/python3.10/site-packages (from spacy[lookups]<4.0.0,>=2.0.0->alibi) (3.5.4)\n",
      "Requirement already satisfied: blis<0.8.0 in ./.venv/lib/python3.10/site-packages (from alibi) (0.7.9)\n",
      "Requirement already satisfied: scikit-image<0.22,>=0.17.2 in ./.venv/lib/python3.10/site-packages (from alibi) (0.21.0)\n",
      "Requirement already satisfied: requests<3.0.0,>=2.21.0 in ./.venv/lib/python3.10/site-packages (from alibi) (2.31.0)\n",
      "Requirement already satisfied: Pillow<10.0,>=5.4.1 in ./.venv/lib/python3.10/site-packages (from alibi) (9.5.0)\n",
      "Requirement already satisfied: attrs<24.0.0,>=19.2.0 in ./.venv/lib/python3.10/site-packages (from alibi) (23.1.0)\n",
      "Requirement already satisfied: matplotlib<4.0.0,>=3.0.0 in ./.venv/lib/python3.10/site-packages (from alibi) (3.7.2)\n",
      "Requirement already satisfied: typing-extensions>=3.7.4.3 in ./.venv/lib/python3.10/site-packages (from alibi) (4.5.0)\n",
      "Requirement already satisfied: dill<0.4.0,>=0.3.0 in ./.venv/lib/python3.10/site-packages (from alibi) (0.3.6)\n",
      "Requirement already satisfied: transformers<5.0.0,>=4.7.0 in ./.venv/lib/python3.10/site-packages (from alibi) (4.30.2)\n",
      "Requirement already satisfied: tqdm<5.0.0,>=4.28.1 in ./.venv/lib/python3.10/site-packages (from alibi) (4.65.0)\n",
      "Requirement already satisfied: idna in ./.venv/lib/python3.10/site-packages (from tldextract) (3.4)\n",
      "Requirement already satisfied: requests-file>=1.4 in ./.venv/lib/python3.10/site-packages (from tldextract) (1.5.1)\n",
      "Requirement already satisfied: filelock>=3.0.8 in ./.venv/lib/python3.10/site-packages (from tldextract) (3.12.2)\n",
      "Requirement already satisfied: contourpy>=1.0.1 in ./.venv/lib/python3.10/site-packages (from matplotlib<4.0.0,>=3.0.0->alibi) (1.1.0)\n",
      "Requirement already satisfied: cycler>=0.10 in ./.venv/lib/python3.10/site-packages (from matplotlib<4.0.0,>=3.0.0->alibi) (0.11.0)\n",
      "Requirement already satisfied: fonttools>=4.22.0 in ./.venv/lib/python3.10/site-packages (from matplotlib<4.0.0,>=3.0.0->alibi) (4.40.0)\n",
      "Requirement already satisfied: kiwisolver>=1.0.1 in ./.venv/lib/python3.10/site-packages (from matplotlib<4.0.0,>=3.0.0->alibi) (1.4.4)\n",
      "Requirement already satisfied: packaging>=20.0 in ./.venv/lib/python3.10/site-packages (from matplotlib<4.0.0,>=3.0.0->alibi) (23.1)\n",
      "Requirement already satisfied: pyparsing<3.1,>=2.3.1 in ./.venv/lib/python3.10/site-packages (from matplotlib<4.0.0,>=3.0.0->alibi) (3.0.9)\n",
      "Requirement already satisfied: six>=1.5 in ./.venv/lib/python3.10/site-packages (from python-dateutil>=2.8.1->pandas) (1.16.0)\n",
      "Requirement already satisfied: charset-normalizer<4,>=2 in ./.venv/lib/python3.10/site-packages (from requests<3.0.0,>=2.21.0->alibi) (3.1.0)\n",
      "Requirement already satisfied: urllib3<3,>=1.21.1 in ./.venv/lib/python3.10/site-packages (from requests<3.0.0,>=2.21.0->alibi) (1.26.16)\n",
      "Requirement already satisfied: certifi>=2017.4.17 in ./.venv/lib/python3.10/site-packages (from requests<3.0.0,>=2.21.0->alibi) (2023.5.7)\n",
      "Requirement already satisfied: networkx>=2.8 in ./.venv/lib/python3.10/site-packages (from scikit-image<0.22,>=0.17.2->alibi) (3.1)\n",
      "Requirement already satisfied: imageio>=2.27 in ./.venv/lib/python3.10/site-packages (from scikit-image<0.22,>=0.17.2->alibi) (2.31.1)\n",
      "Requirement already satisfied: tifffile>=2022.8.12 in ./.venv/lib/python3.10/site-packages (from scikit-image<0.22,>=0.17.2->alibi) (2023.7.4)\n",
      "Requirement already satisfied: PyWavelets>=1.1.1 in ./.venv/lib/python3.10/site-packages (from scikit-image<0.22,>=0.17.2->alibi) (1.4.1)\n",
      "Requirement already satisfied: lazy_loader>=0.2 in ./.venv/lib/python3.10/site-packages (from scikit-image<0.22,>=0.17.2->alibi) (0.3)\n",
      "Requirement already satisfied: spacy-legacy<3.1.0,>=3.0.11 in ./.venv/lib/python3.10/site-packages (from spacy<4.0.0,>=2.0.0->spacy[lookups]<4.0.0,>=2.0.0->alibi) (3.0.12)\n",
      "Requirement already satisfied: spacy-loggers<2.0.0,>=1.0.0 in ./.venv/lib/python3.10/site-packages (from spacy<4.0.0,>=2.0.0->spacy[lookups]<4.0.0,>=2.0.0->alibi) (1.0.4)\n",
      "Requirement already satisfied: murmurhash<1.1.0,>=0.28.0 in ./.venv/lib/python3.10/site-packages (from spacy<4.0.0,>=2.0.0->spacy[lookups]<4.0.0,>=2.0.0->alibi) (1.0.9)\n",
      "Requirement already satisfied: cymem<2.1.0,>=2.0.2 in ./.venv/lib/python3.10/site-packages (from spacy<4.0.0,>=2.0.0->spacy[lookups]<4.0.0,>=2.0.0->alibi) (2.0.7)\n",
      "Requirement already satisfied: preshed<3.1.0,>=3.0.2 in ./.venv/lib/python3.10/site-packages (from spacy<4.0.0,>=2.0.0->spacy[lookups]<4.0.0,>=2.0.0->alibi) (3.0.8)\n",
      "Requirement already satisfied: thinc<8.2.0,>=8.1.8 in ./.venv/lib/python3.10/site-packages (from spacy<4.0.0,>=2.0.0->spacy[lookups]<4.0.0,>=2.0.0->alibi) (8.1.10)\n",
      "Requirement already satisfied: wasabi<1.2.0,>=0.9.1 in ./.venv/lib/python3.10/site-packages (from spacy<4.0.0,>=2.0.0->spacy[lookups]<4.0.0,>=2.0.0->alibi) (1.1.2)\n",
      "Requirement already satisfied: srsly<3.0.0,>=2.4.3 in ./.venv/lib/python3.10/site-packages (from spacy<4.0.0,>=2.0.0->spacy[lookups]<4.0.0,>=2.0.0->alibi) (2.4.6)\n",
      "Requirement already satisfied: catalogue<2.1.0,>=2.0.6 in ./.venv/lib/python3.10/site-packages (from spacy<4.0.0,>=2.0.0->spacy[lookups]<4.0.0,>=2.0.0->alibi) (2.0.8)\n",
      "Requirement already satisfied: typer<0.10.0,>=0.3.0 in ./.venv/lib/python3.10/site-packages (from spacy<4.0.0,>=2.0.0->spacy[lookups]<4.0.0,>=2.0.0->alibi) (0.9.0)\n",
      "Requirement already satisfied: pathy>=0.10.0 in ./.venv/lib/python3.10/site-packages (from spacy<4.0.0,>=2.0.0->spacy[lookups]<4.0.0,>=2.0.0->alibi) (0.10.2)\n",
      "Requirement already satisfied: smart-open<7.0.0,>=5.2.1 in ./.venv/lib/python3.10/site-packages (from spacy<4.0.0,>=2.0.0->spacy[lookups]<4.0.0,>=2.0.0->alibi) (6.3.0)\n",
      "Requirement already satisfied: pydantic!=1.8,!=1.8.1,<1.11.0,>=1.7.4 in ./.venv/lib/python3.10/site-packages (from spacy<4.0.0,>=2.0.0->spacy[lookups]<4.0.0,>=2.0.0->alibi) (1.10.11)\n",
      "Requirement already satisfied: jinja2 in ./.venv/lib/python3.10/site-packages (from spacy<4.0.0,>=2.0.0->spacy[lookups]<4.0.0,>=2.0.0->alibi) (3.1.2)\n",
      "Requirement already satisfied: setuptools in ./.venv/lib/python3.10/site-packages (from spacy<4.0.0,>=2.0.0->spacy[lookups]<4.0.0,>=2.0.0->alibi) (59.6.0)\n",
      "Requirement already satisfied: langcodes<4.0.0,>=3.2.0 in ./.venv/lib/python3.10/site-packages (from spacy<4.0.0,>=2.0.0->spacy[lookups]<4.0.0,>=2.0.0->alibi) (3.3.0)\n",
      "Requirement already satisfied: spacy-lookups-data<1.1.0,>=1.0.3 in ./.venv/lib/python3.10/site-packages (from spacy[lookups]<4.0.0,>=2.0.0->alibi) (1.0.3)\n",
      "Requirement already satisfied: huggingface-hub<1.0,>=0.14.1 in ./.venv/lib/python3.10/site-packages (from transformers<5.0.0,>=4.7.0->alibi) (0.16.3)\n",
      "Requirement already satisfied: pyyaml>=5.1 in ./.venv/lib/python3.10/site-packages (from transformers<5.0.0,>=4.7.0->alibi) (6.0)\n",
      "Requirement already satisfied: regex!=2019.12.17 in ./.venv/lib/python3.10/site-packages (from transformers<5.0.0,>=4.7.0->alibi) (2023.6.3)\n",
      "Requirement already satisfied: tokenizers!=0.11.3,<0.14,>=0.11.1 in ./.venv/lib/python3.10/site-packages (from transformers<5.0.0,>=4.7.0->alibi) (0.13.3)\n",
      "Requirement already satisfied: safetensors>=0.3.1 in ./.venv/lib/python3.10/site-packages (from transformers<5.0.0,>=4.7.0->alibi) (0.3.1)\n",
      "Requirement already satisfied: fsspec in ./.venv/lib/python3.10/site-packages (from huggingface-hub<1.0,>=0.14.1->transformers<5.0.0,>=4.7.0->alibi) (2023.6.0)\n",
      "Requirement already satisfied: confection<1.0.0,>=0.0.1 in ./.venv/lib/python3.10/site-packages (from thinc<8.2.0,>=8.1.8->spacy<4.0.0,>=2.0.0->spacy[lookups]<4.0.0,>=2.0.0->alibi) (0.1.0)\n",
      "Requirement already satisfied: click<9.0.0,>=7.1.1 in ./.venv/lib/python3.10/site-packages (from typer<0.10.0,>=0.3.0->spacy<4.0.0,>=2.0.0->spacy[lookups]<4.0.0,>=2.0.0->alibi) (8.1.4)\n",
      "Requirement already satisfied: MarkupSafe>=2.0 in ./.venv/lib/python3.10/site-packages (from jinja2->spacy<4.0.0,>=2.0.0->spacy[lookups]<4.0.0,>=2.0.0->alibi) (2.1.3)\n",
      "Note: you may need to restart the kernel to use updated packages.\n"
     ]
    }
   ],
   "source": [
    "%pip install --upgrade pip\n",
    "%pip install pandas scikit-learn scipy numpy alibi tldextract pyarrow"
   ]
  },
  {
   "cell_type": "code",
   "execution_count": 2,
   "metadata": {},
   "outputs": [],
   "source": [
    "import pandas as pd\n",
    "import numpy as np\n",
    "import tldextract\n",
    "import re\n",
    "\n",
    "from scipy.stats import entropy\n",
    "from sklearn.model_selection import train_test_split \n",
    "from sklearn.cluster import KMeans\n",
    "from sklearn.metrics import classification_report\n",
    "import matplotlib.pyplot as plt"
   ]
  },
  {
   "attachments": {},
   "cell_type": "markdown",
   "metadata": {},
   "source": [
    "## Data Preprocessing\n",
    "\n",
    "We create additional features for training our unsupervised models"
   ]
  },
  {
   "cell_type": "code",
   "execution_count": 83,
   "metadata": {},
   "outputs": [],
   "source": [
    "def encode_domain(df):\n",
    "    \"\"\"\n",
    "    Encode domain to string\n",
    "    \"\"\"\n",
    "    domain = str(df[\"Domain\"].decode('latin-1').encode(\"utf-8\"))\n",
    "    df[\"Domain\"] = domain\n",
    "    return df\n",
    "\n",
    "def fqdn_entropy(df):\n",
    "    if not df[\"Domain\"]:\n",
    "        return df\n",
    "    \n",
    "    domain = df[\"Domain\"]\n",
    "    \n",
    "    pk = [domain.count(chr(x)) / len(domain) for x in range(256)]\n",
    "    pk = np.array(pk)\n",
    "\n",
    "    df[\"Entropy\"] = entropy(pk, base=2)\n",
    "\n",
    "    return df\n",
    "\n",
    "    \n",
    "def count(df):\n",
    "    \"\"\"\n",
    "    fqdn_count, upper_count, lower_count, numeric_count, special_count\n",
    "    \"\"\"\n",
    "    if not df[\"Domain\"]:\n",
    "        return df\n",
    "\n",
    "    domain = df[\"Domain\"]\n",
    "\n",
    "    df[\"FQDN_full_count\"] = len(domain)\n",
    "    df[\"FQDN_upper_count\"] = sum(1 for c in domain if c.isupper())\n",
    "    df[\"FQDN_lower_count\"] = sum(1 for c in domain if c.islower())\n",
    "    df[\"FQDN_numeric_count\"] = sum(1 for c in domain if c.isdigit())\n",
    "    df[\"FQDN_special_count\"] = len(df[\"Domain\"]) - len(re.findall(\"[\\w]\", domain))\n",
    "\n",
    "    return df\n",
    "\n",
    "\n",
    "def subdomain(df):\n",
    "    \"\"\"\n",
    "    subdomain_length, sld, subdomain\n",
    "    \"\"\"\n",
    "    if not df[\"Domain\"]:\n",
    "        return df\n",
    "\n",
    "    domain = df[\"Domain\"]\n",
    "\n",
    "    parsec_domain = tldextract.extract(domain)\n",
    "\n",
    "    df[\"Subdomain_length\"] = len(parsec_domain.subdomain)\n",
    "\n",
    "    return df\n",
    "\n",
    "\n",
    "def labels(df):\n",
    "    \"\"\"\n",
    "    labels, labels_max, labels_average, longest_word\n",
    "    \"\"\"\n",
    "    if not df[\"Domain\"]:\n",
    "        return df\n",
    "\n",
    "    labels = df[\"Domain\"].split(\".\")\n",
    "    df[\"Labels_length\"] = len(labels)\n",
    "    df[\"Labels_max\"] = len(max(labels, key=len))\n",
    "    df[\"Labels_average\"] = sum(len(c) for c in labels)\n",
    "\n",
    "    return df"
   ]
  },
  {
   "attachments": {},
   "cell_type": "markdown",
   "metadata": {},
   "source": [
    "Testing feature processing"
   ]
  },
  {
   "cell_type": "code",
   "execution_count": 12,
   "metadata": {},
   "outputs": [
    {
     "name": "stdout",
     "output_type": "stream",
     "text": [
      "ExtractResult(subdomain='aaainfotech', domain='googlepages', suffix='com')\n"
     ]
    }
   ],
   "source": [
    "test = b'aaainfotech.googlepages.com'\n",
    "parsec_domain = tldextract.extract(str(test.decode('ascii')))\n",
    "print(parsec_domain)"
   ]
  },
  {
   "cell_type": "markdown",
   "metadata": {},
   "source": [
    "### Test on heiCLOUD DNS Data"
   ]
  },
  {
   "cell_type": "code",
   "execution_count": null,
   "metadata": {},
   "outputs": [],
   "source": [
    "df_heicloud = pd.read_csv(\"data/heicloud_dns_queries_30d_2023-06-19.txt\")\n",
    "\n",
    "df_heicloud = df_heicloud.apply(fqdn_entropy, axis=1)\n",
    "df_heicloud = df_heicloud.apply(count, axis=1)\n",
    "df_heicloud = df_heicloud.apply(labels, axis=1)\n",
    "df_heicloud = df_heicloud.apply(subdomain, axis=1)"
   ]
  },
  {
   "cell_type": "code",
   "execution_count": null,
   "metadata": {},
   "outputs": [],
   "source": [
    "df_heicloud"
   ]
  },
  {
   "cell_type": "code",
   "execution_count": null,
   "metadata": {},
   "outputs": [],
   "source": [
    "X = df_heicloud[['Entropy', 'FQDN_full_count', 'FQDN_upper_count', 'FQDN_lower_count', 'FQDN_numeric_count', 'FQDN_special_count', 'Labels_length', 'Labels_max', 'Labels_average', 'Subdomain_length']].to_numpy()\n",
    "y_pred = clf.predict(X)\n",
    "\n",
    "malicious = df_heicloud.loc[np.where(y_pred == 1)[0]]\n",
    "\n",
    "malicious[\"Domain\"].to_csv(\"malicious.csv\")"
   ]
  }
 ],
 "metadata": {
  "kernelspec": {
   "display_name": ".venv",
   "language": "python",
   "name": "python3"
  },
  "language_info": {
   "codemirror_mode": {
    "name": "ipython",
    "version": 3
   },
   "file_extension": ".py",
   "mimetype": "text/x-python",
   "name": "python",
   "nbconvert_exporter": "python",
   "pygments_lexer": "ipython3",
   "version": "3.10.12"
  },
  "orig_nbformat": 4
 },
 "nbformat": 4,
 "nbformat_minor": 2
}
