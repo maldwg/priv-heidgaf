{
 "cells": [
  {
   "attachments": {},
   "cell_type": "markdown",
   "metadata": {},
   "source": [
    "# DGA Detection - Data Processing\n",
    "# Exploratory Data Analysis (EDA)"
   ]
  },
  {
   "cell_type": "code",
   "execution_count": 1,
   "metadata": {},
   "outputs": [],
   "source": [
    "%%capture\n",
    "%pip install --upgrade pip\n",
    "%pip install polars scikit-learn scipy numpy alibi tldextract pyarrow"
   ]
  },
  {
   "cell_type": "code",
   "execution_count": 34,
   "metadata": {},
   "outputs": [],
   "source": [
    "import polars as pl\n",
    "import numpy as np\n",
    "import tldextract\n",
    "import re\n",
    "\n",
    "from scipy.stats import entropy\n",
    "from sklearn.model_selection import train_test_split \n",
    "from sklearn.cluster import KMeans\n",
    "from sklearn.metrics import classification_report\n",
    "import matplotlib.pyplot as plt"
   ]
  },
  {
   "attachments": {},
   "cell_type": "markdown",
   "metadata": {},
   "source": [
    "## CIC Bell DNS 2021 data set\n",
    "\n",
    "Write out all domain names."
   ]
  },
  {
   "cell_type": "code",
   "execution_count": 35,
   "metadata": {},
   "outputs": [
    {
     "name": "stdout",
     "output_type": "stream",
     "text": [
      "[\"b'google.com.'\", \"b'google.com.'\", \"b'www.google.com.'\", \"b'www.google.com.'\", \"b'facebook.com.'\"]\n",
      "[\"b'dicrophani.com.'\", \"b'dionneg.com.'\", \"b'vipprojects.cn.'\", \"b'hhj3.cn.'\", \"b'hhj3.cn.'\"]\n",
      "[\"b'programafidelidadeitacard2.cf.'\", \"b'programafidelidadeitacard2.cf.'\", \"b'professorjosesilveira.com.'\", \"b'www.ksylitol.com.'\", \"b'www.ksylitol.com.'\"]\n",
      "[\"b'0900259.com.'\", \"b'koitera.net.'\", \"b'koitera.com.'\", \"b'pc.koitera.com.'\", \"b'0901360.com.'\"]\n"
     ]
    }
   ],
   "source": [
    "files = [\"CICBellDNS2021_CSV_benign.csv\", \"CICBellDNS2021_CSV_malware.csv\", \"CICBellDNS2021_CSV_phishing.csv\", \"CICBellDNS2021_CSV_spam.csv\"]\n",
    "\n",
    "domains = {}\n",
    "for file in files:\n",
    "    with open(f\"../data/cic/{file}\") as f:\n",
    "        domain_file = []\n",
    "        for line in f:\n",
    "            txt = line.replace(' ', '')\n",
    "            x = re.split(\",(?![^\\[\\]]*(?:\\])|[^()]*\\))\", txt)\n",
    "            if \"Domain\" != x[4]:\n",
    "                domain_file.append(x[4])\n",
    "        domains[file] = domain_file\n",
    "        print(domain_file[:5])\n",
    "    "
   ]
  },
  {
   "cell_type": "code",
   "execution_count": 37,
   "metadata": {},
   "outputs": [],
   "source": [
    "for key in domains:\n",
    "    pl.DataFrame(domains[key]) #.to_csv(f\"{key}\")"
   ]
  },
  {
   "cell_type": "code",
   "execution_count": 52,
   "metadata": {},
   "outputs": [],
   "source": [
    "import tldextract\n",
    "import re\n",
    "import numpy as np\n",
    "from scipy.stats import entropy\n",
    "\n",
    "def encode_domain(df):\n",
    "    \"\"\"\n",
    "    Encode domain to string\n",
    "    \"\"\"\n",
    "    domain = str(df[\"Domain\"].decode('latin-1').encode(\"utf-8\"))\n",
    "    df[\"Domain\"] = domain\n",
    "    \n",
    "    return df\n",
    "\n",
    "def fqdn_entropy(df):\n",
    "    if not df[\"Domain\"]:\n",
    "        return df\n",
    "    \n",
    "    domain = df[\"Domain\"]\n",
    "    \n",
    "    pk = [domain.count(chr(x)) / len(domain) for x in range(256)]\n",
    "    pk = np.array(pk)\n",
    "\n",
    "    df[\"Entropy\"] = entropy(pk, base=2)\n",
    "\n",
    "    return df\n",
    "\n",
    "    \n",
    "def count(df):\n",
    "    \"\"\"\n",
    "    fqdn_count, upper_count, lower_count, numeric_count, special_count\n",
    "    \"\"\"\n",
    "    if not df[\"Domain\"]:\n",
    "        return df\n",
    "\n",
    "    domain = df[\"Domain\"]\n",
    "\n",
    "    df[\"FQDN_full_count\"] = len(domain)\n",
    "    df[\"FQDN_upper_count\"] = sum(1 for c in domain if c.isupper())\n",
    "    df[\"FQDN_lower_count\"] = sum(1 for c in domain if c.islower())\n",
    "    df[\"FQDN_numeric_count\"] = sum(1 for c in domain if c.isdigit())\n",
    "    df[\"FQDN_special_count\"] = len(df[\"Domain\"]) - len(re.findall(\"[\\w]\", domain))\n",
    "\n",
    "    return df\n",
    "\n",
    "\n",
    "def subdomain(df):\n",
    "    \"\"\"\n",
    "    subdomain_length, sld, subdomain\n",
    "    \"\"\"\n",
    "    if not df[\"Domain\"]:\n",
    "        return df\n",
    "\n",
    "    domain = df[\"Domain\"]\n",
    "\n",
    "    parsec_domain = tldextract.extract(domain)\n",
    "\n",
    "    df[\"Subdomain_length\"] = len(parsec_domain.subdomain)\n",
    "\n",
    "    return df\n",
    "\n",
    "\n",
    "def labels(df):\n",
    "    \"\"\"\n",
    "    labels, labels_max, labels_average, longest_word\n",
    "    \"\"\"\n",
    "    # if not df[\"Domain\"]:\n",
    "    #     return df\n",
    "\n",
    "    labels = df[\"Domain\"].split(\".\")\n",
    "    df[\"Labels_length\"] = len(labels)\n",
    "    df[\"Labels_max\"] = len(max(labels, key=len))\n",
    "    df[\"Labels_average\"] = sum(len(c) for c in labels)\n",
    "\n",
    "    return df"
   ]
  },
  {
   "cell_type": "code",
   "execution_count": 54,
   "metadata": {},
   "outputs": [
    {
     "ename": "AttributeError",
     "evalue": "'Series' object has no attribute 'decode'",
     "output_type": "error",
     "traceback": [
      "\u001b[0;31m---------------------------------------------------------------------------\u001b[0m",
      "\u001b[0;31mAttributeError\u001b[0m                            Traceback (most recent call last)",
      "\u001b[1;32m/home/smachmeier/projects/heiDGA/example/DGA_cic_EDA.ipynb Cell 8\u001b[0m line \u001b[0;36m4\n\u001b[1;32m      <a href='vscode-notebook-cell://ssh-remote%2Bnuerburgring/home/smachmeier/projects/heiDGA/example/DGA_cic_EDA.ipynb#X10sdnNjb2RlLXJlbW90ZQ%3D%3D?line=1'>2</a>\u001b[0m data \u001b[39m=\u001b[39m pl\u001b[39m.\u001b[39mDataFrame(domains[key])\n\u001b[1;32m      <a href='vscode-notebook-cell://ssh-remote%2Bnuerburgring/home/smachmeier/projects/heiDGA/example/DGA_cic_EDA.ipynb#X10sdnNjb2RlLXJlbW90ZQ%3D%3D?line=2'>3</a>\u001b[0m data \u001b[39m=\u001b[39m data\u001b[39m.\u001b[39mrename({\u001b[39m\"\u001b[39m\u001b[39mcolumn_0\u001b[39m\u001b[39m\"\u001b[39m: \u001b[39m\"\u001b[39m\u001b[39mDomain\u001b[39m\u001b[39m\"\u001b[39m})\n\u001b[0;32m----> <a href='vscode-notebook-cell://ssh-remote%2Bnuerburgring/home/smachmeier/projects/heiDGA/example/DGA_cic_EDA.ipynb#X10sdnNjb2RlLXJlbW90ZQ%3D%3D?line=3'>4</a>\u001b[0m encode_domain(data)\n\u001b[1;32m      <a href='vscode-notebook-cell://ssh-remote%2Bnuerburgring/home/smachmeier/projects/heiDGA/example/DGA_cic_EDA.ipynb#X10sdnNjb2RlLXJlbW90ZQ%3D%3D?line=4'>5</a>\u001b[0m labels(data)\n\u001b[1;32m      <a href='vscode-notebook-cell://ssh-remote%2Bnuerburgring/home/smachmeier/projects/heiDGA/example/DGA_cic_EDA.ipynb#X10sdnNjb2RlLXJlbW90ZQ%3D%3D?line=5'>6</a>\u001b[0m \u001b[39mprint\u001b[39m(data)\n",
      "\u001b[1;32m/home/smachmeier/projects/heiDGA/example/DGA_cic_EDA.ipynb Cell 8\u001b[0m line \u001b[0;36m1\n\u001b[1;32m      <a href='vscode-notebook-cell://ssh-remote%2Bnuerburgring/home/smachmeier/projects/heiDGA/example/DGA_cic_EDA.ipynb#X10sdnNjb2RlLXJlbW90ZQ%3D%3D?line=5'>6</a>\u001b[0m \u001b[39mdef\u001b[39;00m \u001b[39mencode_domain\u001b[39m(df):\n\u001b[1;32m      <a href='vscode-notebook-cell://ssh-remote%2Bnuerburgring/home/smachmeier/projects/heiDGA/example/DGA_cic_EDA.ipynb#X10sdnNjb2RlLXJlbW90ZQ%3D%3D?line=6'>7</a>\u001b[0m \u001b[39m    \u001b[39m\u001b[39m\"\"\"\u001b[39;00m\n\u001b[1;32m      <a href='vscode-notebook-cell://ssh-remote%2Bnuerburgring/home/smachmeier/projects/heiDGA/example/DGA_cic_EDA.ipynb#X10sdnNjb2RlLXJlbW90ZQ%3D%3D?line=7'>8</a>\u001b[0m \u001b[39m    Encode domain to string\u001b[39;00m\n\u001b[1;32m      <a href='vscode-notebook-cell://ssh-remote%2Bnuerburgring/home/smachmeier/projects/heiDGA/example/DGA_cic_EDA.ipynb#X10sdnNjb2RlLXJlbW90ZQ%3D%3D?line=8'>9</a>\u001b[0m \u001b[39m    \"\"\"\u001b[39;00m\n\u001b[0;32m---> <a href='vscode-notebook-cell://ssh-remote%2Bnuerburgring/home/smachmeier/projects/heiDGA/example/DGA_cic_EDA.ipynb#X10sdnNjb2RlLXJlbW90ZQ%3D%3D?line=9'>10</a>\u001b[0m     domain \u001b[39m=\u001b[39m \u001b[39mstr\u001b[39m(df[\u001b[39m\"\u001b[39;49m\u001b[39mDomain\u001b[39;49m\u001b[39m\"\u001b[39;49m]\u001b[39m.\u001b[39;49mdecode(\u001b[39m'\u001b[39m\u001b[39mlatin-1\u001b[39m\u001b[39m'\u001b[39m)\u001b[39m.\u001b[39mencode(\u001b[39m\"\u001b[39m\u001b[39mutf-8\u001b[39m\u001b[39m\"\u001b[39m))\n\u001b[1;32m     <a href='vscode-notebook-cell://ssh-remote%2Bnuerburgring/home/smachmeier/projects/heiDGA/example/DGA_cic_EDA.ipynb#X10sdnNjb2RlLXJlbW90ZQ%3D%3D?line=10'>11</a>\u001b[0m     df[\u001b[39m\"\u001b[39m\u001b[39mDomain\u001b[39m\u001b[39m\"\u001b[39m] \u001b[39m=\u001b[39m domain\n\u001b[1;32m     <a href='vscode-notebook-cell://ssh-remote%2Bnuerburgring/home/smachmeier/projects/heiDGA/example/DGA_cic_EDA.ipynb#X10sdnNjb2RlLXJlbW90ZQ%3D%3D?line=12'>13</a>\u001b[0m     \u001b[39mreturn\u001b[39;00m df\n",
      "\u001b[0;31mAttributeError\u001b[0m: 'Series' object has no attribute 'decode'"
     ]
    }
   ],
   "source": [
    "for key in domains:\n",
    "    data = pl.DataFrame(domains[key])\n",
    "    data = data.rename({\"column_0\": \"Domain\"})\n",
    "    encode_domain(data)\n",
    "    labels(data)\n",
    "    print(data)"
   ]
  }
 ],
 "metadata": {
  "kernelspec": {
   "display_name": ".venv",
   "language": "python",
   "name": "python3"
  },
  "language_info": {
   "codemirror_mode": {
    "name": "ipython",
    "version": 3
   },
   "file_extension": ".py",
   "mimetype": "text/x-python",
   "name": "python",
   "nbconvert_exporter": "python",
   "pygments_lexer": "ipython3",
   "version": "3.10.12"
  },
  "orig_nbformat": 4
 },
 "nbformat": 4,
 "nbformat_minor": 2
}
