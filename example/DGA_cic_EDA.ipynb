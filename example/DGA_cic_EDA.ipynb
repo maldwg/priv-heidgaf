{
 "cells": [
  {
   "attachments": {},
   "cell_type": "markdown",
   "metadata": {},
   "source": [
    "# DGA Detection - Data Processing\n",
    "# Exploratory Data Analysis (EDA)"
   ]
  },
  {
   "cell_type": "code",
   "execution_count": 3,
   "metadata": {},
   "outputs": [],
   "source": [
    "%%capture\n",
    "%pip install --upgrade pip\n",
    "%pip install polars scikit-learn scipy numpy alibi tldextract pyarrow"
   ]
  },
  {
   "cell_type": "code",
   "execution_count": 2,
   "metadata": {},
   "outputs": [],
   "source": [
    "import polars as pl\n",
    "import re"
   ]
  },
  {
   "attachments": {},
   "cell_type": "markdown",
   "metadata": {},
   "source": [
    "## CIC Bell DNS 2021 data set\n",
    "\n",
    "Write out all domain names."
   ]
  },
  {
   "cell_type": "code",
   "execution_count": 7,
   "metadata": {},
   "outputs": [
    {
     "ename": "TypeError",
     "evalue": "string argument without an encoding",
     "output_type": "error",
     "traceback": [
      "\u001b[0;31m---------------------------------------------------------------------------\u001b[0m",
      "\u001b[0;31mTypeError\u001b[0m                                 Traceback (most recent call last)",
      "Cell \u001b[0;32mIn[7], line 11\u001b[0m\n\u001b[1;32m      9\u001b[0m     x \u001b[38;5;241m=\u001b[39m re\u001b[38;5;241m.\u001b[39msplit(\u001b[38;5;124m\"\u001b[39m\u001b[38;5;124m,(?![^\u001b[39m\u001b[38;5;124m\\\u001b[39m\u001b[38;5;124m[\u001b[39m\u001b[38;5;124m\\\u001b[39m\u001b[38;5;124m]]*(?:\u001b[39m\u001b[38;5;124m\\\u001b[39m\u001b[38;5;124m])|[^()]*\u001b[39m\u001b[38;5;124m\\\u001b[39m\u001b[38;5;124m))\u001b[39m\u001b[38;5;124m\"\u001b[39m, txt)\n\u001b[1;32m     10\u001b[0m     \u001b[38;5;28;01mif\u001b[39;00m \u001b[38;5;124m\"\u001b[39m\u001b[38;5;124mDomain\u001b[39m\u001b[38;5;124m\"\u001b[39m \u001b[38;5;241m!=\u001b[39m x[\u001b[38;5;241m4\u001b[39m]:\n\u001b[0;32m---> 11\u001b[0m         domain_file\u001b[38;5;241m.\u001b[39mappend(\u001b[38;5;28;43mbytes\u001b[39;49m\u001b[43m(\u001b[49m\u001b[43mx\u001b[49m\u001b[43m[\u001b[49m\u001b[38;5;241;43m4\u001b[39;49m\u001b[43m]\u001b[49m\u001b[43m)\u001b[49m[\u001b[38;5;241m2\u001b[39m:\u001b[38;5;241m-\u001b[39m\u001b[38;5;241m2\u001b[39m])\n\u001b[1;32m     12\u001b[0m domains[file] \u001b[38;5;241m=\u001b[39m domain_file\n\u001b[1;32m     13\u001b[0m \u001b[38;5;28mprint\u001b[39m(domain_file[:\u001b[38;5;241m5\u001b[39m])\n",
      "\u001b[0;31mTypeError\u001b[0m: string argument without an encoding"
     ]
    }
   ],
   "source": [
    "files = [\"CICBellDNS2021_CSV_benign.csv\", \"CICBellDNS2021_CSV_malware.csv\", \"CICBellDNS2021_CSV_phishing.csv\", \"CICBellDNS2021_CSV_spam.csv\"]\n",
    "\n",
    "domains = {}\n",
    "for file in files:\n",
    "    with open(f\"../data/cic/{file}\") as f:\n",
    "        domain_file = []\n",
    "        for line in f:\n",
    "            txt = line.replace(' ', '')\n",
    "            x = re.split(\",(?![^\\[\\]]*(?:\\])|[^()]*\\))\", txt)\n",
    "            if \"Domain\" != x[4]:\n",
    "                domain_file.append(x[4][2:-2])\n",
    "        domains[file] = domain_file\n",
    "        print(domain_file[:5])"
   ]
  },
  {
   "cell_type": "code",
   "execution_count": 12,
   "metadata": {},
   "outputs": [],
   "source": [
    "for key in domains:\n",
    "    pl.DataFrame(domains[key]) #.to_csv(f\"{key}\")"
   ]
  },
  {
   "cell_type": "code",
   "execution_count": 13,
   "metadata": {},
   "outputs": [
    {
     "name": "stdout",
     "output_type": "stream",
     "text": [
      "shape: (500_001, 1)\n",
      "┌────────────────────────┐\n",
      "│ Domain                 │\n",
      "│ ---                    │\n",
      "│ str                    │\n",
      "╞════════════════════════╡\n",
      "│ google.com             │\n",
      "│ google.com             │\n",
      "│ www.google.com         │\n",
      "│ www.google.com         │\n",
      "│ …                      │\n",
      "│ weddingprime.de        │\n",
      "│ weddingprime.de        │\n",
      "│ vlasenko.net           │\n",
      "│ drterrencescamp.com.au │\n",
      "└────────────────────────┘\n",
      "shape: (5_001, 1)\n",
      "┌───────────────────────────────────┐\n",
      "│ Domain                            │\n",
      "│ ---                               │\n",
      "│ str                               │\n",
      "╞═══════════════════════════════════╡\n",
      "│ dicrophani.com                    │\n",
      "│ dionneg.com                       │\n",
      "│ vipprojects.cn                    │\n",
      "│ hhj3.cn                           │\n",
      "│ …                                 │\n",
      "│ onlinefrepdfviewer.000webhostapp… │\n",
      "│ onlinefrepdfviewer.000webhostapp… │\n",
      "│ stefanie-bolemant.de              │\n",
      "│ web.asamnet.de                    │\n",
      "└───────────────────────────────────┘\n",
      "shape: (5_001, 1)\n",
      "┌───────────────────────────────┐\n",
      "│ Domain                        │\n",
      "│ ---                           │\n",
      "│ str                           │\n",
      "╞═══════════════════════════════╡\n",
      "│ programafidelidadeitacard2.cf │\n",
      "│ programafidelidadeitacard2.cf │\n",
      "│ professorjosesilveira.com     │\n",
      "│ www.ksylitol.com              │\n",
      "│ …                             │\n",
      "│ onedrive.live.com             │\n",
      "│ onedrive.live.com             │\n",
      "│ onedrive.live.com             │\n",
      "│ onedrive.live.com             │\n",
      "└───────────────────────────────┘\n",
      "shape: (4_337, 1)\n",
      "┌────────────────────────────┐\n",
      "│ Domain                     │\n",
      "│ ---                        │\n",
      "│ str                        │\n",
      "╞════════════════════════════╡\n",
      "│ 0900259.com                │\n",
      "│ koitera.net                │\n",
      "│ koitera.com                │\n",
      "│ pc.koitera.com             │\n",
      "│ …                          │\n",
      "│ xn--e1adw2cbtt.xn--p1ai    │\n",
      "│ xn--i1adt7cc.xn--p1ai      │\n",
      "│ xn--i1agwyy.xn--p1ai       │\n",
      "│ zenithprivatebankingng.com │\n",
      "└────────────────────────────┘\n"
     ]
    }
   ],
   "source": [
    "for key in domains:\n",
    "    data = pl.DataFrame(domains[key])\n",
    "    data = data.rename({\"column_0\": \"Domain\"})\n",
    "    print(data)"
   ]
  }
 ],
 "metadata": {
  "kernelspec": {
   "display_name": ".venv",
   "language": "python",
   "name": "python3"
  },
  "language_info": {
   "codemirror_mode": {
    "name": "ipython",
    "version": 3
   },
   "file_extension": ".py",
   "mimetype": "text/x-python",
   "name": "python",
   "nbconvert_exporter": "python",
   "pygments_lexer": "ipython3",
   "version": "3.10.12"
  },
  "orig_nbformat": 4
 },
 "nbformat": 4,
 "nbformat_minor": 2
}
