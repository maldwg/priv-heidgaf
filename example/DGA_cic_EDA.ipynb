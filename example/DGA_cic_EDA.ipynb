{
 "cells": [
  {
   "attachments": {},
   "cell_type": "markdown",
   "metadata": {},
   "source": [
    "# DGA Detection - Data Processing\n",
    "# Exploratory Data Analysis (EDA)"
   ]
  },
  {
   "cell_type": "code",
   "execution_count": 3,
   "metadata": {},
   "outputs": [],
   "source": [
    "%%capture\n",
    "%pip install --upgrade pip\n",
    "%pip install polars scikit-learn scipy numpy alibi tldextract pyarrow"
   ]
  },
  {
   "cell_type": "code",
   "execution_count": 2,
   "metadata": {},
   "outputs": [],
   "source": [
    "import polars as pl\n",
    "import re"
   ]
  },
  {
   "attachments": {},
   "cell_type": "markdown",
   "metadata": {},
   "source": [
    "## CIC Bell DNS 2021 data set\n",
    "\n",
    "Write out all domain names."
   ]
  },
  {
   "cell_type": "code",
   "execution_count": 8,
   "metadata": {},
   "outputs": [
    {
     "name": "stdout",
     "output_type": "stream",
     "text": [
      "['google.com', 'google.com', 'www.google.com', 'www.google.com', 'facebook.com']\n",
      "['dicrophani.com', 'dionneg.com', 'vipprojects.cn', 'hhj3.cn', 'hhj3.cn']\n",
      "['programafidelidadeitacard2.cf', 'programafidelidadeitacard2.cf', 'professorjosesilveira.com', 'www.ksylitol.com', 'www.ksylitol.com']\n",
      "['0900259.com', 'koitera.net', 'koitera.com', 'pc.koitera.com', '0901360.com']\n"
     ]
    }
   ],
   "source": [
    "files = [\"CICBellDNS2021_CSV_benign.csv\", \"CICBellDNS2021_CSV_malware.csv\", \"CICBellDNS2021_CSV_phishing.csv\", \"CICBellDNS2021_CSV_spam.csv\"]\n",
    "\n",
    "domains = {}\n",
    "for file in files:\n",
    "    with open(f\"../data/cic/{file}\") as f:\n",
    "        domain_file = []\n",
    "        for line in f:\n",
    "            txt = line.replace(' ', '')\n",
    "            x = re.split(\",(?![^\\[\\]]*(?:\\])|[^()]*\\))\", txt)\n",
    "            if \"Domain\" != x[4]:\n",
    "                domain_file.append(x[4][2:-2])\n",
    "        domains[file] = domain_file\n",
    "        print(domain_file[:5])"
   ]
  },
  {
   "cell_type": "code",
   "execution_count": 9,
   "metadata": {},
   "outputs": [],
   "source": [
    "for key in domains:\n",
    "    pl.DataFrame(domains[key]).write_csv(f'{key}')"
   ]
  },
  {
   "cell_type": "code",
   "execution_count": 10,
   "metadata": {},
   "outputs": [
    {
     "name": "stdout",
     "output_type": "stream",
     "text": [
      "shape: (500_001, 1)\n",
      "┌────────────────────────┐\n",
      "│ Domain                 │\n",
      "│ ---                    │\n",
      "│ str                    │\n",
      "╞════════════════════════╡\n",
      "│ google.com             │\n",
      "│ google.com             │\n",
      "│ www.google.com         │\n",
      "│ www.google.com         │\n",
      "│ …                      │\n",
      "│ weddingprime.de        │\n",
      "│ weddingprime.de        │\n",
      "│ vlasenko.net           │\n",
      "│ drterrencescamp.com.au │\n",
      "└────────────────────────┘\n",
      "shape: (5_001, 1)\n",
      "┌───────────────────────────────────┐\n",
      "│ Domain                            │\n",
      "│ ---                               │\n",
      "│ str                               │\n",
      "╞═══════════════════════════════════╡\n",
      "│ dicrophani.com                    │\n",
      "│ dionneg.com                       │\n",
      "│ vipprojects.cn                    │\n",
      "│ hhj3.cn                           │\n",
      "│ …                                 │\n",
      "│ onlinefrepdfviewer.000webhostapp… │\n",
      "│ onlinefrepdfviewer.000webhostapp… │\n",
      "│ stefanie-bolemant.de              │\n",
      "│ web.asamnet.de                    │\n",
      "└───────────────────────────────────┘\n",
      "shape: (5_001, 1)\n",
      "┌───────────────────────────────┐\n",
      "│ Domain                        │\n",
      "│ ---                           │\n",
      "│ str                           │\n",
      "╞═══════════════════════════════╡\n",
      "│ programafidelidadeitacard2.cf │\n",
      "│ programafidelidadeitacard2.cf │\n",
      "│ professorjosesilveira.com     │\n",
      "│ www.ksylitol.com              │\n",
      "│ …                             │\n",
      "│ onedrive.live.com             │\n",
      "│ onedrive.live.com             │\n",
      "│ onedrive.live.com             │\n",
      "│ onedrive.live.com             │\n",
      "└───────────────────────────────┘\n",
      "shape: (4_337, 1)\n",
      "┌────────────────────────────┐\n",
      "│ Domain                     │\n",
      "│ ---                        │\n",
      "│ str                        │\n",
      "╞════════════════════════════╡\n",
      "│ 0900259.com                │\n",
      "│ koitera.net                │\n",
      "│ koitera.com                │\n",
      "│ pc.koitera.com             │\n",
      "│ …                          │\n",
      "│ xn--e1adw2cbtt.xn--p1ai    │\n",
      "│ xn--i1adt7cc.xn--p1ai      │\n",
      "│ xn--i1agwyy.xn--p1ai       │\n",
      "│ zenithprivatebankingng.com │\n",
      "└────────────────────────────┘\n"
     ]
    }
   ],
   "source": [
    "for key in domains:\n",
    "    data = pl.DataFrame(domains[key])\n",
    "    data = data.rename({\"column_0\": \"Domain\"})\n",
    "    print(data)"
   ]
  }
 ],
 "metadata": {
  "kernelspec": {
   "display_name": ".venv",
   "language": "python",
   "name": "python3"
  },
  "language_info": {
   "codemirror_mode": {
    "name": "ipython",
    "version": 3
   },
   "file_extension": ".py",
   "mimetype": "text/x-python",
   "name": "python",
   "nbconvert_exporter": "python",
   "pygments_lexer": "ipython3",
   "version": "3.10.12"
  },
  "orig_nbformat": 4
 },
 "nbformat": 4,
 "nbformat_minor": 2
}
